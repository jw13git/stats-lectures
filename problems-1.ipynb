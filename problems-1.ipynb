{
 "cells": [
  {
   "cell_type": "code",
   "execution_count": 38,
   "metadata": {},
   "outputs": [],
   "source": [
    "import pandas as pd\n",
    "import seaborn as sns\n",
    "import matplotlib.pyplot as plt\n",
    "import numpy as np\n",
    "from scipy import stats\n",
    "from collections import Counter\n",
    "import math"
   ]
  },
  {
   "cell_type": "code",
   "execution_count": 2,
   "metadata": {},
   "outputs": [],
   "source": [
    "batteries = pd.read_csv('batteries.csv',header=None)\n",
    "sat = pd.read_csv('sat.csv')\n",
    "mpg = pd.read_csv('mpg.csv')"
   ]
  },
  {
   "cell_type": "code",
   "execution_count": 3,
   "metadata": {},
   "outputs": [
    {
     "name": "stdout",
     "output_type": "stream",
     "text": [
      "<class 'pandas.core.frame.DataFrame'>\n",
      "RangeIndex: 48 entries, 0 to 47\n",
      "Data columns (total 1 columns):\n",
      " #   Column  Non-Null Count  Dtype  \n",
      "---  ------  --------------  -----  \n",
      " 0   0       48 non-null     float64\n",
      "dtypes: float64(1)\n",
      "memory usage: 512.0 bytes\n"
     ]
    }
   ],
   "source": [
    "batteries.info()"
   ]
  },
  {
   "cell_type": "code",
   "execution_count": 4,
   "metadata": {},
   "outputs": [
    {
     "name": "stdout",
     "output_type": "stream",
     "text": [
      "<class 'pandas.core.frame.DataFrame'>\n",
      "RangeIndex: 234 entries, 0 to 233\n",
      "Data columns (total 9 columns):\n",
      " #   Column  Non-Null Count  Dtype  \n",
      "---  ------  --------------  -----  \n",
      " 0   obs     234 non-null    int64  \n",
      " 1   sex     234 non-null    int64  \n",
      " 2   maj     234 non-null    int64  \n",
      " 3   satm    234 non-null    int64  \n",
      " 4   satv    234 non-null    int64  \n",
      " 5   hsm     234 non-null    int64  \n",
      " 6   hss     234 non-null    int64  \n",
      " 7   hse     234 non-null    int64  \n",
      " 8   gpa     234 non-null    float64\n",
      "dtypes: float64(1), int64(8)\n",
      "memory usage: 16.6 KB\n"
     ]
    }
   ],
   "source": [
    "sat.info()"
   ]
  },
  {
   "cell_type": "code",
   "execution_count": 5,
   "metadata": {},
   "outputs": [
    {
     "name": "stdout",
     "output_type": "stream",
     "text": [
      "<class 'pandas.core.frame.DataFrame'>\n",
      "RangeIndex: 249 entries, 0 to 248\n",
      "Data columns (total 2 columns):\n",
      " #   Column             Non-Null Count  Dtype\n",
      "---  ------             --------------  -----\n",
      " 0   American Car MPG   249 non-null    int64\n",
      " 1   Japanese Cars MPG  249 non-null    int64\n",
      "dtypes: int64(2)\n",
      "memory usage: 4.0 KB\n"
     ]
    }
   ],
   "source": [
    "mpg.info()"
   ]
  },
  {
   "cell_type": "code",
   "execution_count": 6,
   "metadata": {},
   "outputs": [
    {
     "data": {
      "text/html": [
       "<div>\n",
       "<style scoped>\n",
       "    .dataframe tbody tr th:only-of-type {\n",
       "        vertical-align: middle;\n",
       "    }\n",
       "\n",
       "    .dataframe tbody tr th {\n",
       "        vertical-align: top;\n",
       "    }\n",
       "\n",
       "    .dataframe thead th {\n",
       "        text-align: right;\n",
       "    }\n",
       "</style>\n",
       "<table border=\"1\" class=\"dataframe\">\n",
       "  <thead>\n",
       "    <tr style=\"text-align: right;\">\n",
       "      <th></th>\n",
       "      <th>0</th>\n",
       "    </tr>\n",
       "  </thead>\n",
       "  <tbody>\n",
       "    <tr>\n",
       "      <th>0</th>\n",
       "      <td>137.0</td>\n",
       "    </tr>\n",
       "  </tbody>\n",
       "</table>\n",
       "</div>"
      ],
      "text/plain": [
       "       0\n",
       "0  137.0"
      ]
     },
     "execution_count": 6,
     "metadata": {},
     "output_type": "execute_result"
    }
   ],
   "source": [
    "batteries.head(1)"
   ]
  },
  {
   "cell_type": "code",
   "execution_count": 7,
   "metadata": {},
   "outputs": [
    {
     "data": {
      "text/html": [
       "<div>\n",
       "<style scoped>\n",
       "    .dataframe tbody tr th:only-of-type {\n",
       "        vertical-align: middle;\n",
       "    }\n",
       "\n",
       "    .dataframe tbody tr th {\n",
       "        vertical-align: top;\n",
       "    }\n",
       "\n",
       "    .dataframe thead th {\n",
       "        text-align: right;\n",
       "    }\n",
       "</style>\n",
       "<table border=\"1\" class=\"dataframe\">\n",
       "  <thead>\n",
       "    <tr style=\"text-align: right;\">\n",
       "      <th></th>\n",
       "      <th>obs</th>\n",
       "      <th>sex</th>\n",
       "      <th>maj</th>\n",
       "      <th>satm</th>\n",
       "      <th>satv</th>\n",
       "      <th>hsm</th>\n",
       "      <th>hss</th>\n",
       "      <th>hse</th>\n",
       "      <th>gpa</th>\n",
       "    </tr>\n",
       "  </thead>\n",
       "  <tbody>\n",
       "    <tr>\n",
       "      <th>0</th>\n",
       "      <td>1</td>\n",
       "      <td>1</td>\n",
       "      <td>1</td>\n",
       "      <td>640</td>\n",
       "      <td>530</td>\n",
       "      <td>8</td>\n",
       "      <td>6</td>\n",
       "      <td>8</td>\n",
       "      <td>2.35</td>\n",
       "    </tr>\n",
       "  </tbody>\n",
       "</table>\n",
       "</div>"
      ],
      "text/plain": [
       "   obs  sex  maj  satm  satv  hsm  hss  hse   gpa\n",
       "0    1    1    1   640   530    8    6    8  2.35"
      ]
     },
     "execution_count": 7,
     "metadata": {},
     "output_type": "execute_result"
    }
   ],
   "source": [
    "sat.head(1)"
   ]
  },
  {
   "cell_type": "code",
   "execution_count": 8,
   "metadata": {},
   "outputs": [
    {
     "data": {
      "text/html": [
       "<div>\n",
       "<style scoped>\n",
       "    .dataframe tbody tr th:only-of-type {\n",
       "        vertical-align: middle;\n",
       "    }\n",
       "\n",
       "    .dataframe tbody tr th {\n",
       "        vertical-align: top;\n",
       "    }\n",
       "\n",
       "    .dataframe thead th {\n",
       "        text-align: right;\n",
       "    }\n",
       "</style>\n",
       "<table border=\"1\" class=\"dataframe\">\n",
       "  <thead>\n",
       "    <tr style=\"text-align: right;\">\n",
       "      <th></th>\n",
       "      <th>American Car MPG</th>\n",
       "      <th>Japanese Cars MPG</th>\n",
       "    </tr>\n",
       "  </thead>\n",
       "  <tbody>\n",
       "    <tr>\n",
       "      <th>0</th>\n",
       "      <td>18</td>\n",
       "      <td>24</td>\n",
       "    </tr>\n",
       "    <tr>\n",
       "      <th>1</th>\n",
       "      <td>15</td>\n",
       "      <td>27</td>\n",
       "    </tr>\n",
       "    <tr>\n",
       "      <th>2</th>\n",
       "      <td>18</td>\n",
       "      <td>27</td>\n",
       "    </tr>\n",
       "    <tr>\n",
       "      <th>3</th>\n",
       "      <td>16</td>\n",
       "      <td>25</td>\n",
       "    </tr>\n",
       "    <tr>\n",
       "      <th>4</th>\n",
       "      <td>17</td>\n",
       "      <td>31</td>\n",
       "    </tr>\n",
       "    <tr>\n",
       "      <th>...</th>\n",
       "      <td>...</td>\n",
       "      <td>...</td>\n",
       "    </tr>\n",
       "    <tr>\n",
       "      <th>74</th>\n",
       "      <td>18</td>\n",
       "      <td>34</td>\n",
       "    </tr>\n",
       "    <tr>\n",
       "      <th>75</th>\n",
       "      <td>18</td>\n",
       "      <td>38</td>\n",
       "    </tr>\n",
       "    <tr>\n",
       "      <th>76</th>\n",
       "      <td>23</td>\n",
       "      <td>32</td>\n",
       "    </tr>\n",
       "    <tr>\n",
       "      <th>77</th>\n",
       "      <td>11</td>\n",
       "      <td>38</td>\n",
       "    </tr>\n",
       "    <tr>\n",
       "      <th>78</th>\n",
       "      <td>12</td>\n",
       "      <td>32</td>\n",
       "    </tr>\n",
       "  </tbody>\n",
       "</table>\n",
       "<p>79 rows × 2 columns</p>\n",
       "</div>"
      ],
      "text/plain": [
       "    American Car MPG  Japanese Cars MPG\n",
       "0                 18                 24\n",
       "1                 15                 27\n",
       "2                 18                 27\n",
       "3                 16                 25\n",
       "4                 17                 31\n",
       "..               ...                ...\n",
       "74                18                 34\n",
       "75                18                 38\n",
       "76                23                 32\n",
       "77                11                 38\n",
       "78                12                 32\n",
       "\n",
       "[79 rows x 2 columns]"
      ]
     },
     "execution_count": 8,
     "metadata": {},
     "output_type": "execute_result"
    }
   ],
   "source": [
    "mpg = mpg.loc[mpg['Japanese Cars MPG'] != -999]\n",
    "mpg"
   ]
  },
  {
   "cell_type": "markdown",
   "metadata": {},
   "source": [
    "#### A company selling batteries claims that the average life for its batteries before a recharge is necessary is at least 100 hours. The data is in the file batteries.csv. One of its clients wanted to verify this claim by testing 48 batteries as described in the Figure 1. Is the company’s claim correct at the alpha=5% level?"
   ]
  },
  {
   "cell_type": "code",
   "execution_count": 41,
   "metadata": {},
   "outputs": [
    {
     "name": "stdout",
     "output_type": "stream",
     "text": [
      "103.8125\n",
      "23.958879888924585\n"
     ]
    }
   ],
   "source": [
    "'''H0 = avg >= 100\n",
    "Ha = avg < 100\n",
    "alpha = 0.05\n",
    "n = 48'''\n",
    "# one = stats.norm.ppf(0.05, loc =batteries.mean(), scale=np.std(batteries))\n",
    "# plt.axvline(one,0,1)\n",
    "\n",
    "# # plt.axvline(one,0,0.95)\n",
    "# sns.distplot(stats.norm.rvs(loc= batteries.mean(), scale = np.std(batteries), size=48))\n",
    "mean = np.mean(batteries[0])\n",
    "std = np.std(batteries[0], ddof = 1)\n",
    "# ddof means degrees of freedom you want to subtract\n",
    "'''Since we don't know the population mean, \\mu, we use the sample mean, \\overline{x}. We are dividing by n-1 instead of n to compensate for the fact \n",
    "we are calculating the differences from the sample mean instead of the population mean. Otherwise, we would consistently underestimate the variance around \n",
    "the population mean. The differences bewteen the data and the sample mean tend to be smaller than the differences between the data and the population mean.\n",
    "'''\n",
    "print(mean)\n",
    "print(std)"
   ]
  },
  {
   "cell_type": "markdown",
   "metadata": {},
   "source": [
    "## WITHOUT Converting to Z score for standard normal curve\n",
    "##### via CLT, assume normality of the sampling distribution of the sample mean\n",
    "\n",
    "##### Under null hypothesis, we assume that mean is drawn from a normal distribution with mean = 100 and std error = std/math.sqrt(48)"
   ]
  },
  {
   "cell_type": "code",
   "execution_count": 42,
   "metadata": {},
   "outputs": [
    {
     "data": {
      "text/plain": [
       "105.68817760870233"
      ]
     },
     "execution_count": 42,
     "metadata": {},
     "output_type": "execute_result"
    }
   ],
   "source": [
    "# Compute the cutoff for H0 of mean = 100\n",
    "# if the sample mean is above the cutoff, reject the null\n",
    "# if the sample mean is below the cutoff, fail to reject the null\n",
    "\n",
    "std_error = std/math.sqrt(48)\n",
    "cutoff = stats.norm.ppf(.95, loc =100, scale=std_error)\n",
    "cutoff"
   ]
  },
  {
   "cell_type": "code",
   "execution_count": null,
   "metadata": {},
   "outputs": [],
   "source": []
  },
  {
   "cell_type": "code",
   "execution_count": 43,
   "metadata": {},
   "outputs": [
    {
     "name": "stdout",
     "output_type": "stream",
     "text": [
      "since mean = 103.8125 < 105.68817760870233, fail to reject the null hypothesis\n"
     ]
    }
   ],
   "source": [
    "print(f'since mean = {mean} < {cutoff}, fail to reject the null hypothesis')"
   ]
  },
  {
   "cell_type": "code",
   "execution_count": 10,
   "metadata": {},
   "outputs": [
    {
     "data": {
      "text/plain": [
       "Ttest_1sampResult(statistic=0   -0.050891\n",
       "dtype: float64, pvalue=array([0.95962828]))"
      ]
     },
     "execution_count": 10,
     "metadata": {},
     "output_type": "execute_result"
    }
   ],
   "source": [
    "blah = stats.norm.rvs(loc= batteries.mean(), scale = np.std(batteries), size=48)\n",
    "stats.ttest_1samp(a = blah, popmean = batteries.mean())"
   ]
  },
  {
   "cell_type": "markdown",
   "metadata": {},
   "source": [
    "#### The file mpg.csv has sample data on the miles per gallon from various US and Japanese cars\n",
    "#### Test the null hypothesis that the population of US cars has the same MPG as the population of Japanese at the 5% level."
   ]
  },
  {
   "cell_type": "code",
   "execution_count": 11,
   "metadata": {},
   "outputs": [
    {
     "name": "stdout",
     "output_type": "stream",
     "text": [
      "H0 - US mpg = Japanese mpg\n",
      "Ha - US mpg != Japanese mpg\n",
      "alpha = 0.05\n"
     ]
    }
   ],
   "source": [
    "print('H0 - US mpg = Japanese mpg\\nHa - US mpg != Japanese mpg\\nalpha = 0.05')"
   ]
  },
  {
   "cell_type": "code",
   "execution_count": 12,
   "metadata": {},
   "outputs": [
    {
     "name": "stdout",
     "output_type": "stream",
     "text": [
      "US mean value: 16.025316455696203\n",
      "Japanese mean value: 30.481012658227847\n"
     ]
    }
   ],
   "source": [
    "US_mean = np.mean(mpg['American Car MPG'])\n",
    "Japanese_mean = np.mean(mpg['Japanese Cars MPG'])\n",
    "print(\"US mean value:\",US_mean)\n",
    "print(\"Japanese mean value:\",Japanese_mean)"
   ]
  },
  {
   "cell_type": "code",
   "execution_count": 13,
   "metadata": {},
   "outputs": [
    {
     "name": "stdout",
     "output_type": "stream",
     "text": [
      "US std value: 4.170343407965598\n",
      "Japanese std value: 6.068930545150857\n"
     ]
    }
   ],
   "source": [
    "US_std = np.std(mpg['American Car MPG'])\n",
    "Japanese_std = np.std(mpg['Japanese Cars MPG'])\n",
    "print(\"US std value:\",US_std)\n",
    "print(\"Japanese std value:\",Japanese_std)"
   ]
  },
  {
   "cell_type": "code",
   "execution_count": 44,
   "metadata": {},
   "outputs": [
    {
     "name": "stdout",
     "output_type": "stream",
     "text": [
      "p-value =  3.267637437870519e-38\n",
      "we reject null hypothesis\n"
     ]
    }
   ],
   "source": [
    "ttest,pval = stats.ttest_ind(mpg['American Car MPG'],mpg['Japanese Cars MPG'])\n",
    "print(\"p-value = \",pval)\n",
    "if pval <0.05:\n",
    "  print(\"we reject null hypothesis\")\n",
    "else:\n",
    "  print(\"we fail to reject null hypothesis\")"
   ]
  },
  {
   "cell_type": "code",
   "execution_count": 55,
   "metadata": {},
   "outputs": [
    {
     "name": "stdout",
     "output_type": "stream",
     "text": [
      "US Chart\n"
     ]
    },
    {
     "data": {
      "text/plain": [
       "<matplotlib.axes._subplots.AxesSubplot at 0x2445934ec88>"
      ]
     },
     "execution_count": 55,
     "metadata": {},
     "output_type": "execute_result"
    },
    {
     "data": {
      "image/png": "[encoded data removed]",
      "text/plain": [
       "<Figure size 432x288 with 1 Axes>"
      ]
     },
     "metadata": {
      "needs_background": "light"
     },
     "output_type": "display_data"
    }
   ],
   "source": [
    "print('US Chart')\n",
    "US = stats.norm.ppf(0.05, loc =US_mean, scale=US_std)\n",
    "plt.axvline(US,0,1)\n",
    "\n",
    "# plt.axvline(one,0,0.95)\n",
    "# sns.distplot(stats.norm.rvs(loc= US_mean, scale = US_std, size=79))\n",
    "sns.boxplot(x=mpg['American Car MPG'],data=mpg)"
   ]
  },
  {
   "cell_type": "code",
   "execution_count": 53,
   "metadata": {},
   "outputs": [
    {
     "data": {
      "text/plain": [
       "<matplotlib.axes._subplots.AxesSubplot at 0x24459288948>"
      ]
     },
     "execution_count": 53,
     "metadata": {},
     "output_type": "execute_result"
    },
    {
     "data": {
      "image/png": "[encoded data removed]",
      "text/plain": [
       "<Figure size 432x288 with 1 Axes>"
      ]
     },
     "metadata": {
      "needs_background": "light"
     },
     "output_type": "display_data"
    }
   ],
   "source": [
    "sns.boxplot(x=mpg['Japanese Cars MPG'],data=mpg)"
   ]
  },
  {
   "cell_type": "markdown",
   "metadata": {},
   "source": [
    "#### The file sat.csv has various data\n",
    "#### High school math grades (HSM)\n",
    "#### High school science grades (HSS)\n",
    "#### High school English grades (HSE)\n",
    "#### SAT Math (SATM)\n",
    "#### SAT Verbal (SATV)\n",
    "#### Gender unknown which is male or female\n",
    "\n",
    "#### Run a bunch of tests! do gender 1 and gender 2 have the same population means for HSM, HSE, SATM, and SATV?"
   ]
  },
  {
   "cell_type": "code",
   "execution_count": 21,
   "metadata": {},
   "outputs": [
    {
     "name": "stdout",
     "output_type": "stream",
     "text": [
      "Gender1 HSM mean value: 8.256410256410257\n",
      "Gender2 HSM mean value: 8.820512820512821\n"
     ]
    }
   ],
   "source": [
    "# means for HSM scores\n",
    "g1_HSM = sat.loc[sat.sex == 1]\n",
    "g2_HSM = sat.loc[sat.sex == 2]\n",
    "g1_HSMmean = np.mean(g1_HSM.hsm)\n",
    "g2_HSMmean = np.mean(g2_HSM.hsm)\n",
    "print(\"Gender1 HSM mean value:\",g1_HSMmean)\n",
    "print(\"Gender2 HSM mean value:\",g2_HSMmean)"
   ]
  },
  {
   "cell_type": "code",
   "execution_count": null,
   "metadata": {},
   "outputs": [],
   "source": [
    "g1_SATM = sat.loc[sat.sex == 1]\n",
    "g2_SATM = sat.loc[sat.sex == 2]\n",
    "g1_SATMmean = np.mean(g1_HSM.hsm)\n",
    "g2_SATMmean = np.mean(g2_HSM.hsm)\n",
    "print(\"Gender1 HSM mean value:\",g1_HSMmean)\n",
    "print(\"Gender2 HSM mean value:\",g2_HSMmean)"
   ]
  },
  {
   "cell_type": "code",
   "execution_count": 22,
   "metadata": {},
   "outputs": [],
   "source": [
    "sat['SATscore'] = sat.satm + sat.satv\n"
   ]
  },
  {
   "cell_type": "code",
   "execution_count": 26,
   "metadata": {},
   "outputs": [
    {
     "name": "stdout",
     "output_type": "stream",
     "text": [
      "Gender1 SATscore mean value: 1119.820512820513\n",
      "Gender2 SATscore mean value: 1101.128205128205\n"
     ]
    }
   ],
   "source": [
    "g1_SATscore = sat.loc[sat.sex == 1]\n",
    "g2_SATscore = sat.loc[sat.sex == 2]\n",
    "g1_SATscore = np.mean(g1_SATscore.SATscore)\n",
    "g2_SATscore = np.mean(g2_SATscore.SATscore)\n",
    "print(\"Gender1 SATscore mean value:\",g1_SATscore)\n",
    "print(\"Gender2 SATscore mean value:\",g2_SATscore)"
   ]
  },
  {
   "cell_type": "code",
   "execution_count": 31,
   "metadata": {},
   "outputs": [
    {
     "name": "stdout",
     "output_type": "stream",
     "text": [
      "Gender1 SATscore std value:      obs  sex  maj  satm  satv  hsm  hss  hse   gpa  SATscore\n",
      "0      1    1    1   640   530    8    6    8  2.35      1170\n",
      "1      2    1    1   670   600    9   10    7  2.08      1270\n",
      "2      3    1    1   600   400    8    8    7  3.21      1000\n",
      "3      4    1    1   570   480    7    7    6  2.34      1050\n",
      "4      5    1    1   510   530    6    8    8  1.40      1040\n",
      "..   ...  ...  ...   ...   ...  ...  ...  ...   ...       ...\n",
      "112  113    1    3   586   670    9    9   10  2.67      1256\n",
      "113  114    1    3   700   500    9    8    7  2.51      1200\n",
      "114  115    1    3   550   570    7    7    5  1.79      1120\n",
      "115  116    1    3   505   518    6    6    8  2.42      1023\n",
      "116  117    1    3   515   285    5    7    7  0.58       800\n",
      "\n",
      "[117 rows x 10 columns]\n",
      "Gender2 SATscore std value:      obs  sex  maj  satm  satv  hsm  hss  hse   gpa  SATscore\n",
      "117  118    2    1   570   570   10   10   10  2.76      1140\n",
      "118  119    2    1   570   570   10   10   10  2.76      1140\n",
      "119  120    2    1   580   540    9    9    9  3.35      1120\n",
      "120  121    2    1   580   540    9    9    9  3.35      1120\n",
      "121  122    2    1   580   540    9    9    9  3.35      1120\n",
      "..   ...  ...  ...   ...   ...  ...  ...  ...   ...       ...\n",
      "229  230    2    3   600   440    9    7    6  2.07      1040\n",
      "230  231    2    3   510   480    7    7    9  0.85       990\n",
      "231  232    2    3   356   350    7    9    7  1.86       706\n",
      "232  233    2    3   630   470    5    4    7  2.59      1100\n",
      "233  234    2    3   559   488    9    8    9  2.28      1047\n",
      "\n",
      "[117 rows x 10 columns]\n"
     ]
    }
   ],
   "source": [
    "g1_SATscore = sat.loc[sat.sex == 1]\n",
    "g2_SATscore = sat.loc[sat.sex == 2]\n",
    "g1_SATscore1 = np.std(g1_SATscore.SATscore)\n",
    "g2_SATscore2 = np.std(g2_SATscore.SATscore)\n",
    "print(\"Gender1 SATscore std value:\",g1_SATscore)\n",
    "print(\"Gender2 SATscore std value:\",g2_SATscore)"
   ]
  },
  {
   "cell_type": "code",
   "execution_count": 34,
   "metadata": {},
   "outputs": [
    {
     "name": "stdout",
     "output_type": "stream",
     "text": [
      "p-value =  0.3285585469215587\n",
      "we fail to reject null hypothesis\n"
     ]
    }
   ],
   "source": [
    "# SAT scores t-test\n",
    "ttest,pval = stats.ttest_ind(g1_SATscore.SATscore,g2_SATscore.SATscore)\n",
    "print(\"p-value = \",pval)\n",
    "if pval <0.05:\n",
    "  print(\"we reject null hypothesis\")\n",
    "else:\n",
    "  print(\"we fail to reject null hypothesis\")"
   ]
  }
 ],
 "metadata": {
  "kernelspec": {
   "display_name": "Python 3",
   "language": "python",
   "name": "python3"
  },
  "language_info": {
   "codemirror_mode": {
    "name": "ipython",
    "version": 3
   },
   "file_extension": ".py",
   "mimetype": "text/x-python",
   "name": "python",
   "nbconvert_exporter": "python",
   "pygments_lexer": "ipython3",
   "version": "3.7.7"
  }
 },
 "nbformat": 4,
 "nbformat_minor": 4
}
